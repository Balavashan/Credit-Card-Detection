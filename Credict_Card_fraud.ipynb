{
  "nbformat": 4,
  "nbformat_minor": 0,
  "metadata": {
    "colab": {
      "name": "Credict_Card_fraud.ipynb",
      "provenance": []
    },
    "kernelspec": {
      "name": "python3",
      "display_name": "Python 3"
    },
    "language_info": {
      "name": "python"
    }
  },
  "cells": [
    {
      "cell_type": "markdown",
      "metadata": {
        "id": "9sMSIyirQGfZ"
      },
      "source": [
        "#**IMPORTING REQUIRED LIBRARIES**"
      ]
    },
    {
      "cell_type": "code",
      "metadata": {
        "id": "Cj3lLzb8jt4_"
      },
      "source": [
        "import numpy as np\n",
        "import pandas as pd\n",
        "import matplotlib.pyplot as plt\n",
        "import seaborn as sns\n",
        "pd.set_option('display.float_format',lambda x:'%.3f' % x)"
      ],
      "execution_count": 54,
      "outputs": []
    },
    {
      "cell_type": "code",
      "metadata": {
        "id": "liEoTWC-kvXd"
      },
      "source": [
        "data=pd.read_csv(\"creditcard.csv\")"
      ],
      "execution_count": 55,
      "outputs": []
    },
    {
      "cell_type": "code",
      "metadata": {
        "colab": {
          "base_uri": "https://localhost:8080/"
        },
        "id": "9YqxlqxnlA8v",
        "outputId": "10342301-3998-4586-8dbe-474b89b17ef3"
      },
      "source": [
        "data.shape"
      ],
      "execution_count": 56,
      "outputs": [
        {
          "output_type": "execute_result",
          "data": {
            "text/plain": [
              "(284807, 31)"
            ]
          },
          "metadata": {
            "tags": []
          },
          "execution_count": 56
        }
      ]
    },
    {
      "cell_type": "markdown",
      "metadata": {
        "id": "190XFhynQTXF"
      },
      "source": [
        "#**DATA ANALYSIS AND VISUALIZATION**"
      ]
    },
    {
      "cell_type": "code",
      "metadata": {
        "colab": {
          "base_uri": "https://localhost:8080/",
          "height": 226
        },
        "id": "NypLqeqflCT6",
        "outputId": "d50ab59f-e6d7-4985-b568-3d383f6fbeb7"
      },
      "source": [
        "data.head()"
      ],
      "execution_count": 57,
      "outputs": [
        {
          "output_type": "execute_result",
          "data": {
            "text/html": [
              "<div>\n",
              "<style scoped>\n",
              "    .dataframe tbody tr th:only-of-type {\n",
              "        vertical-align: middle;\n",
              "    }\n",
              "\n",
              "    .dataframe tbody tr th {\n",
              "        vertical-align: top;\n",
              "    }\n",
              "\n",
              "    .dataframe thead th {\n",
              "        text-align: right;\n",
              "    }\n",
              "</style>\n",
              "<table border=\"1\" class=\"dataframe\">\n",
              "  <thead>\n",
              "    <tr style=\"text-align: right;\">\n",
              "      <th></th>\n",
              "      <th>Time</th>\n",
              "      <th>V1</th>\n",
              "      <th>V2</th>\n",
              "      <th>V3</th>\n",
              "      <th>V4</th>\n",
              "      <th>V5</th>\n",
              "      <th>V6</th>\n",
              "      <th>V7</th>\n",
              "      <th>V8</th>\n",
              "      <th>V9</th>\n",
              "      <th>V10</th>\n",
              "      <th>V11</th>\n",
              "      <th>V12</th>\n",
              "      <th>V13</th>\n",
              "      <th>V14</th>\n",
              "      <th>V15</th>\n",
              "      <th>V16</th>\n",
              "      <th>V17</th>\n",
              "      <th>V18</th>\n",
              "      <th>V19</th>\n",
              "      <th>V20</th>\n",
              "      <th>V21</th>\n",
              "      <th>V22</th>\n",
              "      <th>V23</th>\n",
              "      <th>V24</th>\n",
              "      <th>V25</th>\n",
              "      <th>V26</th>\n",
              "      <th>V27</th>\n",
              "      <th>V28</th>\n",
              "      <th>Amount</th>\n",
              "      <th>Class</th>\n",
              "    </tr>\n",
              "  </thead>\n",
              "  <tbody>\n",
              "    <tr>\n",
              "      <th>0</th>\n",
              "      <td>0.000</td>\n",
              "      <td>-1.360</td>\n",
              "      <td>-0.073</td>\n",
              "      <td>2.536</td>\n",
              "      <td>1.378</td>\n",
              "      <td>-0.338</td>\n",
              "      <td>0.462</td>\n",
              "      <td>0.240</td>\n",
              "      <td>0.099</td>\n",
              "      <td>0.364</td>\n",
              "      <td>0.091</td>\n",
              "      <td>-0.552</td>\n",
              "      <td>-0.618</td>\n",
              "      <td>-0.991</td>\n",
              "      <td>-0.311</td>\n",
              "      <td>1.468</td>\n",
              "      <td>-0.470</td>\n",
              "      <td>0.208</td>\n",
              "      <td>0.026</td>\n",
              "      <td>0.404</td>\n",
              "      <td>0.251</td>\n",
              "      <td>-0.018</td>\n",
              "      <td>0.278</td>\n",
              "      <td>-0.110</td>\n",
              "      <td>0.067</td>\n",
              "      <td>0.129</td>\n",
              "      <td>-0.189</td>\n",
              "      <td>0.134</td>\n",
              "      <td>-0.021</td>\n",
              "      <td>149.620</td>\n",
              "      <td>0</td>\n",
              "    </tr>\n",
              "    <tr>\n",
              "      <th>1</th>\n",
              "      <td>0.000</td>\n",
              "      <td>1.192</td>\n",
              "      <td>0.266</td>\n",
              "      <td>0.166</td>\n",
              "      <td>0.448</td>\n",
              "      <td>0.060</td>\n",
              "      <td>-0.082</td>\n",
              "      <td>-0.079</td>\n",
              "      <td>0.085</td>\n",
              "      <td>-0.255</td>\n",
              "      <td>-0.167</td>\n",
              "      <td>1.613</td>\n",
              "      <td>1.065</td>\n",
              "      <td>0.489</td>\n",
              "      <td>-0.144</td>\n",
              "      <td>0.636</td>\n",
              "      <td>0.464</td>\n",
              "      <td>-0.115</td>\n",
              "      <td>-0.183</td>\n",
              "      <td>-0.146</td>\n",
              "      <td>-0.069</td>\n",
              "      <td>-0.226</td>\n",
              "      <td>-0.639</td>\n",
              "      <td>0.101</td>\n",
              "      <td>-0.340</td>\n",
              "      <td>0.167</td>\n",
              "      <td>0.126</td>\n",
              "      <td>-0.009</td>\n",
              "      <td>0.015</td>\n",
              "      <td>2.690</td>\n",
              "      <td>0</td>\n",
              "    </tr>\n",
              "    <tr>\n",
              "      <th>2</th>\n",
              "      <td>1.000</td>\n",
              "      <td>-1.358</td>\n",
              "      <td>-1.340</td>\n",
              "      <td>1.773</td>\n",
              "      <td>0.380</td>\n",
              "      <td>-0.503</td>\n",
              "      <td>1.800</td>\n",
              "      <td>0.791</td>\n",
              "      <td>0.248</td>\n",
              "      <td>-1.515</td>\n",
              "      <td>0.208</td>\n",
              "      <td>0.625</td>\n",
              "      <td>0.066</td>\n",
              "      <td>0.717</td>\n",
              "      <td>-0.166</td>\n",
              "      <td>2.346</td>\n",
              "      <td>-2.890</td>\n",
              "      <td>1.110</td>\n",
              "      <td>-0.121</td>\n",
              "      <td>-2.262</td>\n",
              "      <td>0.525</td>\n",
              "      <td>0.248</td>\n",
              "      <td>0.772</td>\n",
              "      <td>0.909</td>\n",
              "      <td>-0.689</td>\n",
              "      <td>-0.328</td>\n",
              "      <td>-0.139</td>\n",
              "      <td>-0.055</td>\n",
              "      <td>-0.060</td>\n",
              "      <td>378.660</td>\n",
              "      <td>0</td>\n",
              "    </tr>\n",
              "    <tr>\n",
              "      <th>3</th>\n",
              "      <td>1.000</td>\n",
              "      <td>-0.966</td>\n",
              "      <td>-0.185</td>\n",
              "      <td>1.793</td>\n",
              "      <td>-0.863</td>\n",
              "      <td>-0.010</td>\n",
              "      <td>1.247</td>\n",
              "      <td>0.238</td>\n",
              "      <td>0.377</td>\n",
              "      <td>-1.387</td>\n",
              "      <td>-0.055</td>\n",
              "      <td>-0.226</td>\n",
              "      <td>0.178</td>\n",
              "      <td>0.508</td>\n",
              "      <td>-0.288</td>\n",
              "      <td>-0.631</td>\n",
              "      <td>-1.060</td>\n",
              "      <td>-0.684</td>\n",
              "      <td>1.966</td>\n",
              "      <td>-1.233</td>\n",
              "      <td>-0.208</td>\n",
              "      <td>-0.108</td>\n",
              "      <td>0.005</td>\n",
              "      <td>-0.190</td>\n",
              "      <td>-1.176</td>\n",
              "      <td>0.647</td>\n",
              "      <td>-0.222</td>\n",
              "      <td>0.063</td>\n",
              "      <td>0.061</td>\n",
              "      <td>123.500</td>\n",
              "      <td>0</td>\n",
              "    </tr>\n",
              "    <tr>\n",
              "      <th>4</th>\n",
              "      <td>2.000</td>\n",
              "      <td>-1.158</td>\n",
              "      <td>0.878</td>\n",
              "      <td>1.549</td>\n",
              "      <td>0.403</td>\n",
              "      <td>-0.407</td>\n",
              "      <td>0.096</td>\n",
              "      <td>0.593</td>\n",
              "      <td>-0.271</td>\n",
              "      <td>0.818</td>\n",
              "      <td>0.753</td>\n",
              "      <td>-0.823</td>\n",
              "      <td>0.538</td>\n",
              "      <td>1.346</td>\n",
              "      <td>-1.120</td>\n",
              "      <td>0.175</td>\n",
              "      <td>-0.451</td>\n",
              "      <td>-0.237</td>\n",
              "      <td>-0.038</td>\n",
              "      <td>0.803</td>\n",
              "      <td>0.409</td>\n",
              "      <td>-0.009</td>\n",
              "      <td>0.798</td>\n",
              "      <td>-0.137</td>\n",
              "      <td>0.141</td>\n",
              "      <td>-0.206</td>\n",
              "      <td>0.502</td>\n",
              "      <td>0.219</td>\n",
              "      <td>0.215</td>\n",
              "      <td>69.990</td>\n",
              "      <td>0</td>\n",
              "    </tr>\n",
              "  </tbody>\n",
              "</table>\n",
              "</div>"
            ],
            "text/plain": [
              "   Time     V1     V2    V3     V4  ...    V26    V27    V28  Amount  Class\n",
              "0 0.000 -1.360 -0.073 2.536  1.378  ... -0.189  0.134 -0.021 149.620      0\n",
              "1 0.000  1.192  0.266 0.166  0.448  ...  0.126 -0.009  0.015   2.690      0\n",
              "2 1.000 -1.358 -1.340 1.773  0.380  ... -0.139 -0.055 -0.060 378.660      0\n",
              "3 1.000 -0.966 -0.185 1.793 -0.863  ... -0.222  0.063  0.061 123.500      0\n",
              "4 2.000 -1.158  0.878 1.549  0.403  ...  0.502  0.219  0.215  69.990      0\n",
              "\n",
              "[5 rows x 31 columns]"
            ]
          },
          "metadata": {
            "tags": []
          },
          "execution_count": 57
        }
      ]
    },
    {
      "cell_type": "code",
      "metadata": {
        "colab": {
          "base_uri": "https://localhost:8080/",
          "height": 226
        },
        "id": "G_ToCwVnX8l7",
        "outputId": "67508818-0817-44ca-c551-b6f09b85ef92"
      },
      "source": [
        "data.head()"
      ],
      "execution_count": 188,
      "outputs": [
        {
          "output_type": "execute_result",
          "data": {
            "text/html": [
              "<div>\n",
              "<style scoped>\n",
              "    .dataframe tbody tr th:only-of-type {\n",
              "        vertical-align: middle;\n",
              "    }\n",
              "\n",
              "    .dataframe tbody tr th {\n",
              "        vertical-align: top;\n",
              "    }\n",
              "\n",
              "    .dataframe thead th {\n",
              "        text-align: right;\n",
              "    }\n",
              "</style>\n",
              "<table border=\"1\" class=\"dataframe\">\n",
              "  <thead>\n",
              "    <tr style=\"text-align: right;\">\n",
              "      <th></th>\n",
              "      <th>Time</th>\n",
              "      <th>V1</th>\n",
              "      <th>V2</th>\n",
              "      <th>V3</th>\n",
              "      <th>V4</th>\n",
              "      <th>V5</th>\n",
              "      <th>V6</th>\n",
              "      <th>V7</th>\n",
              "      <th>V8</th>\n",
              "      <th>V9</th>\n",
              "      <th>V10</th>\n",
              "      <th>V11</th>\n",
              "      <th>V12</th>\n",
              "      <th>V13</th>\n",
              "      <th>V14</th>\n",
              "      <th>V15</th>\n",
              "      <th>V16</th>\n",
              "      <th>V17</th>\n",
              "      <th>V18</th>\n",
              "      <th>V19</th>\n",
              "      <th>V20</th>\n",
              "      <th>V21</th>\n",
              "      <th>V22</th>\n",
              "      <th>V23</th>\n",
              "      <th>V24</th>\n",
              "      <th>V25</th>\n",
              "      <th>V26</th>\n",
              "      <th>V27</th>\n",
              "      <th>V28</th>\n",
              "      <th>Amount</th>\n",
              "      <th>Class</th>\n",
              "    </tr>\n",
              "  </thead>\n",
              "  <tbody>\n",
              "    <tr>\n",
              "      <th>0</th>\n",
              "      <td>0.000</td>\n",
              "      <td>-1.360</td>\n",
              "      <td>-0.073</td>\n",
              "      <td>2.536</td>\n",
              "      <td>1.378</td>\n",
              "      <td>-0.338</td>\n",
              "      <td>0.462</td>\n",
              "      <td>0.240</td>\n",
              "      <td>0.099</td>\n",
              "      <td>0.364</td>\n",
              "      <td>0.091</td>\n",
              "      <td>-0.552</td>\n",
              "      <td>-0.618</td>\n",
              "      <td>-0.991</td>\n",
              "      <td>-0.311</td>\n",
              "      <td>1.468</td>\n",
              "      <td>-0.470</td>\n",
              "      <td>0.208</td>\n",
              "      <td>0.026</td>\n",
              "      <td>0.404</td>\n",
              "      <td>0.251</td>\n",
              "      <td>-0.018</td>\n",
              "      <td>0.278</td>\n",
              "      <td>-0.110</td>\n",
              "      <td>0.067</td>\n",
              "      <td>0.129</td>\n",
              "      <td>-0.189</td>\n",
              "      <td>0.134</td>\n",
              "      <td>-0.021</td>\n",
              "      <td>149.620</td>\n",
              "      <td>0</td>\n",
              "    </tr>\n",
              "    <tr>\n",
              "      <th>1</th>\n",
              "      <td>0.000</td>\n",
              "      <td>1.192</td>\n",
              "      <td>0.266</td>\n",
              "      <td>0.166</td>\n",
              "      <td>0.448</td>\n",
              "      <td>0.060</td>\n",
              "      <td>-0.082</td>\n",
              "      <td>-0.079</td>\n",
              "      <td>0.085</td>\n",
              "      <td>-0.255</td>\n",
              "      <td>-0.167</td>\n",
              "      <td>1.613</td>\n",
              "      <td>1.065</td>\n",
              "      <td>0.489</td>\n",
              "      <td>-0.144</td>\n",
              "      <td>0.636</td>\n",
              "      <td>0.464</td>\n",
              "      <td>-0.115</td>\n",
              "      <td>-0.183</td>\n",
              "      <td>-0.146</td>\n",
              "      <td>-0.069</td>\n",
              "      <td>-0.226</td>\n",
              "      <td>-0.639</td>\n",
              "      <td>0.101</td>\n",
              "      <td>-0.340</td>\n",
              "      <td>0.167</td>\n",
              "      <td>0.126</td>\n",
              "      <td>-0.009</td>\n",
              "      <td>0.015</td>\n",
              "      <td>2.690</td>\n",
              "      <td>0</td>\n",
              "    </tr>\n",
              "    <tr>\n",
              "      <th>2</th>\n",
              "      <td>1.000</td>\n",
              "      <td>-1.358</td>\n",
              "      <td>-1.340</td>\n",
              "      <td>1.773</td>\n",
              "      <td>0.380</td>\n",
              "      <td>-0.503</td>\n",
              "      <td>1.800</td>\n",
              "      <td>0.791</td>\n",
              "      <td>0.248</td>\n",
              "      <td>-1.515</td>\n",
              "      <td>0.208</td>\n",
              "      <td>0.625</td>\n",
              "      <td>0.066</td>\n",
              "      <td>0.717</td>\n",
              "      <td>-0.166</td>\n",
              "      <td>2.346</td>\n",
              "      <td>-2.890</td>\n",
              "      <td>1.110</td>\n",
              "      <td>-0.121</td>\n",
              "      <td>-2.262</td>\n",
              "      <td>0.525</td>\n",
              "      <td>0.248</td>\n",
              "      <td>0.772</td>\n",
              "      <td>0.909</td>\n",
              "      <td>-0.689</td>\n",
              "      <td>-0.328</td>\n",
              "      <td>-0.139</td>\n",
              "      <td>-0.055</td>\n",
              "      <td>-0.060</td>\n",
              "      <td>378.660</td>\n",
              "      <td>0</td>\n",
              "    </tr>\n",
              "    <tr>\n",
              "      <th>3</th>\n",
              "      <td>1.000</td>\n",
              "      <td>-0.966</td>\n",
              "      <td>-0.185</td>\n",
              "      <td>1.793</td>\n",
              "      <td>-0.863</td>\n",
              "      <td>-0.010</td>\n",
              "      <td>1.247</td>\n",
              "      <td>0.238</td>\n",
              "      <td>0.377</td>\n",
              "      <td>-1.387</td>\n",
              "      <td>-0.055</td>\n",
              "      <td>-0.226</td>\n",
              "      <td>0.178</td>\n",
              "      <td>0.508</td>\n",
              "      <td>-0.288</td>\n",
              "      <td>-0.631</td>\n",
              "      <td>-1.060</td>\n",
              "      <td>-0.684</td>\n",
              "      <td>1.966</td>\n",
              "      <td>-1.233</td>\n",
              "      <td>-0.208</td>\n",
              "      <td>-0.108</td>\n",
              "      <td>0.005</td>\n",
              "      <td>-0.190</td>\n",
              "      <td>-1.176</td>\n",
              "      <td>0.647</td>\n",
              "      <td>-0.222</td>\n",
              "      <td>0.063</td>\n",
              "      <td>0.061</td>\n",
              "      <td>123.500</td>\n",
              "      <td>0</td>\n",
              "    </tr>\n",
              "    <tr>\n",
              "      <th>4</th>\n",
              "      <td>2.000</td>\n",
              "      <td>-1.158</td>\n",
              "      <td>0.878</td>\n",
              "      <td>1.549</td>\n",
              "      <td>0.403</td>\n",
              "      <td>-0.407</td>\n",
              "      <td>0.096</td>\n",
              "      <td>0.593</td>\n",
              "      <td>-0.271</td>\n",
              "      <td>0.818</td>\n",
              "      <td>0.753</td>\n",
              "      <td>-0.823</td>\n",
              "      <td>0.538</td>\n",
              "      <td>1.346</td>\n",
              "      <td>-1.120</td>\n",
              "      <td>0.175</td>\n",
              "      <td>-0.451</td>\n",
              "      <td>-0.237</td>\n",
              "      <td>-0.038</td>\n",
              "      <td>0.803</td>\n",
              "      <td>0.409</td>\n",
              "      <td>-0.009</td>\n",
              "      <td>0.798</td>\n",
              "      <td>-0.137</td>\n",
              "      <td>0.141</td>\n",
              "      <td>-0.206</td>\n",
              "      <td>0.502</td>\n",
              "      <td>0.219</td>\n",
              "      <td>0.215</td>\n",
              "      <td>69.990</td>\n",
              "      <td>0</td>\n",
              "    </tr>\n",
              "  </tbody>\n",
              "</table>\n",
              "</div>"
            ],
            "text/plain": [
              "   Time     V1     V2    V3     V4  ...    V26    V27    V28  Amount  Class\n",
              "0 0.000 -1.360 -0.073 2.536  1.378  ... -0.189  0.134 -0.021 149.620      0\n",
              "1 0.000  1.192  0.266 0.166  0.448  ...  0.126 -0.009  0.015   2.690      0\n",
              "2 1.000 -1.358 -1.340 1.773  0.380  ... -0.139 -0.055 -0.060 378.660      0\n",
              "3 1.000 -0.966 -0.185 1.793 -0.863  ... -0.222  0.063  0.061 123.500      0\n",
              "4 2.000 -1.158  0.878 1.549  0.403  ...  0.502  0.219  0.215  69.990      0\n",
              "\n",
              "[5 rows x 31 columns]"
            ]
          },
          "metadata": {
            "tags": []
          },
          "execution_count": 188
        }
      ]
    },
    {
      "cell_type": "code",
      "metadata": {
        "colab": {
          "base_uri": "https://localhost:8080/"
        },
        "id": "_yXXzkH9ox1Y",
        "outputId": "c100b4f0-a228-42be-a984-bd06290d53f8"
      },
      "source": [
        "data.info()"
      ],
      "execution_count": 42,
      "outputs": [
        {
          "output_type": "stream",
          "text": [
            "<class 'pandas.core.frame.DataFrame'>\n",
            "RangeIndex: 221880 entries, 0 to 221879\n",
            "Data columns (total 31 columns):\n",
            " #   Column  Non-Null Count   Dtype  \n",
            "---  ------  --------------   -----  \n",
            " 0   Time    221880 non-null  float64\n",
            " 1   V1      221880 non-null  float64\n",
            " 2   V2      221880 non-null  float64\n",
            " 3   V3      221880 non-null  float64\n",
            " 4   V4      221880 non-null  float64\n",
            " 5   V5      221880 non-null  float64\n",
            " 6   V6      221880 non-null  float64\n",
            " 7   V7      221880 non-null  float64\n",
            " 8   V8      221880 non-null  float64\n",
            " 9   V9      221880 non-null  float64\n",
            " 10  V10     221880 non-null  float64\n",
            " 11  V11     221880 non-null  float64\n",
            " 12  V12     221880 non-null  float64\n",
            " 13  V13     221880 non-null  float64\n",
            " 14  V14     221880 non-null  float64\n",
            " 15  V15     221880 non-null  float64\n",
            " 16  V16     221880 non-null  float64\n",
            " 17  V17     221880 non-null  float64\n",
            " 18  V18     221880 non-null  float64\n",
            " 19  V19     221880 non-null  float64\n",
            " 20  V20     221880 non-null  float64\n",
            " 21  V21     221879 non-null  float64\n",
            " 22  V22     221879 non-null  float64\n",
            " 23  V23     221879 non-null  float64\n",
            " 24  V24     221879 non-null  float64\n",
            " 25  V25     221879 non-null  float64\n",
            " 26  V26     221879 non-null  float64\n",
            " 27  V27     221879 non-null  float64\n",
            " 28  V28     221879 non-null  float64\n",
            " 29  Amount  221879 non-null  float64\n",
            " 30  Class   221879 non-null  float64\n",
            "dtypes: float64(31)\n",
            "memory usage: 52.5 MB\n"
          ],
          "name": "stdout"
        }
      ]
    },
    {
      "cell_type": "code",
      "metadata": {
        "colab": {
          "base_uri": "https://localhost:8080/"
        },
        "id": "76G9xJecpcEy",
        "outputId": "89d940ff-5eb9-467a-ce7e-57261a308013"
      },
      "source": [
        "data.isnull().values.any()"
      ],
      "execution_count": 60,
      "outputs": [
        {
          "output_type": "execute_result",
          "data": {
            "text/plain": [
              "False"
            ]
          },
          "metadata": {
            "tags": []
          },
          "execution_count": 60
        }
      ]
    },
    {
      "cell_type": "code",
      "metadata": {
        "colab": {
          "base_uri": "https://localhost:8080/"
        },
        "id": "lmK2zBQVQgbd",
        "outputId": "9447d23e-1b85-4a16-f4c1-6f210827d588"
      },
      "source": [
        "data.isnull().sum()"
      ],
      "execution_count": 138,
      "outputs": [
        {
          "output_type": "execute_result",
          "data": {
            "text/plain": [
              "Time      0\n",
              "V1        0\n",
              "V2        0\n",
              "V3        0\n",
              "V4        0\n",
              "V5        0\n",
              "V6        0\n",
              "V7        0\n",
              "V8        0\n",
              "V9        0\n",
              "V10       0\n",
              "V11       0\n",
              "V12       0\n",
              "V13       0\n",
              "V14       0\n",
              "V15       0\n",
              "V16       0\n",
              "V17       0\n",
              "V18       0\n",
              "V19       0\n",
              "V20       0\n",
              "V21       0\n",
              "V22       0\n",
              "V23       0\n",
              "V24       0\n",
              "V25       0\n",
              "V26       0\n",
              "V27       0\n",
              "V28       0\n",
              "Amount    0\n",
              "Class     0\n",
              "dtype: int64"
            ]
          },
          "metadata": {
            "tags": []
          },
          "execution_count": 138
        }
      ]
    },
    {
      "cell_type": "code",
      "metadata": {
        "colab": {
          "base_uri": "https://localhost:8080/",
          "height": 320
        },
        "id": "VNNPkR1Krplb",
        "outputId": "cd3e5193-6432-4420-bd2e-3c18bf8d1d18"
      },
      "source": [
        "data.describe()"
      ],
      "execution_count": 61,
      "outputs": [
        {
          "output_type": "execute_result",
          "data": {
            "text/html": [
              "<div>\n",
              "<style scoped>\n",
              "    .dataframe tbody tr th:only-of-type {\n",
              "        vertical-align: middle;\n",
              "    }\n",
              "\n",
              "    .dataframe tbody tr th {\n",
              "        vertical-align: top;\n",
              "    }\n",
              "\n",
              "    .dataframe thead th {\n",
              "        text-align: right;\n",
              "    }\n",
              "</style>\n",
              "<table border=\"1\" class=\"dataframe\">\n",
              "  <thead>\n",
              "    <tr style=\"text-align: right;\">\n",
              "      <th></th>\n",
              "      <th>Time</th>\n",
              "      <th>V1</th>\n",
              "      <th>V2</th>\n",
              "      <th>V3</th>\n",
              "      <th>V4</th>\n",
              "      <th>V5</th>\n",
              "      <th>V6</th>\n",
              "      <th>V7</th>\n",
              "      <th>V8</th>\n",
              "      <th>V9</th>\n",
              "      <th>V10</th>\n",
              "      <th>V11</th>\n",
              "      <th>V12</th>\n",
              "      <th>V13</th>\n",
              "      <th>V14</th>\n",
              "      <th>V15</th>\n",
              "      <th>V16</th>\n",
              "      <th>V17</th>\n",
              "      <th>V18</th>\n",
              "      <th>V19</th>\n",
              "      <th>V20</th>\n",
              "      <th>V21</th>\n",
              "      <th>V22</th>\n",
              "      <th>V23</th>\n",
              "      <th>V24</th>\n",
              "      <th>V25</th>\n",
              "      <th>V26</th>\n",
              "      <th>V27</th>\n",
              "      <th>V28</th>\n",
              "      <th>Amount</th>\n",
              "      <th>Class</th>\n",
              "    </tr>\n",
              "  </thead>\n",
              "  <tbody>\n",
              "    <tr>\n",
              "      <th>count</th>\n",
              "      <td>284807.000</td>\n",
              "      <td>284807.000</td>\n",
              "      <td>284807.000</td>\n",
              "      <td>284807.000</td>\n",
              "      <td>284807.000</td>\n",
              "      <td>284807.000</td>\n",
              "      <td>284807.000</td>\n",
              "      <td>284807.000</td>\n",
              "      <td>284807.000</td>\n",
              "      <td>284807.000</td>\n",
              "      <td>284807.000</td>\n",
              "      <td>284807.000</td>\n",
              "      <td>284807.000</td>\n",
              "      <td>284807.000</td>\n",
              "      <td>284807.000</td>\n",
              "      <td>284807.000</td>\n",
              "      <td>284807.000</td>\n",
              "      <td>284807.000</td>\n",
              "      <td>284807.000</td>\n",
              "      <td>284807.000</td>\n",
              "      <td>284807.000</td>\n",
              "      <td>284807.000</td>\n",
              "      <td>284807.000</td>\n",
              "      <td>284807.000</td>\n",
              "      <td>284807.000</td>\n",
              "      <td>284807.000</td>\n",
              "      <td>284807.000</td>\n",
              "      <td>284807.000</td>\n",
              "      <td>284807.000</td>\n",
              "      <td>284807.000</td>\n",
              "      <td>284807.000</td>\n",
              "    </tr>\n",
              "    <tr>\n",
              "      <th>mean</th>\n",
              "      <td>94813.860</td>\n",
              "      <td>0.000</td>\n",
              "      <td>0.000</td>\n",
              "      <td>-0.000</td>\n",
              "      <td>0.000</td>\n",
              "      <td>-0.000</td>\n",
              "      <td>0.000</td>\n",
              "      <td>-0.000</td>\n",
              "      <td>-0.000</td>\n",
              "      <td>-0.000</td>\n",
              "      <td>0.000</td>\n",
              "      <td>0.000</td>\n",
              "      <td>-0.000</td>\n",
              "      <td>0.000</td>\n",
              "      <td>0.000</td>\n",
              "      <td>0.000</td>\n",
              "      <td>0.000</td>\n",
              "      <td>-0.000</td>\n",
              "      <td>0.000</td>\n",
              "      <td>0.000</td>\n",
              "      <td>0.000</td>\n",
              "      <td>0.000</td>\n",
              "      <td>0.000</td>\n",
              "      <td>0.000</td>\n",
              "      <td>0.000</td>\n",
              "      <td>0.000</td>\n",
              "      <td>0.000</td>\n",
              "      <td>-0.000</td>\n",
              "      <td>-0.000</td>\n",
              "      <td>88.350</td>\n",
              "      <td>0.002</td>\n",
              "    </tr>\n",
              "    <tr>\n",
              "      <th>std</th>\n",
              "      <td>47488.146</td>\n",
              "      <td>1.959</td>\n",
              "      <td>1.651</td>\n",
              "      <td>1.516</td>\n",
              "      <td>1.416</td>\n",
              "      <td>1.380</td>\n",
              "      <td>1.332</td>\n",
              "      <td>1.237</td>\n",
              "      <td>1.194</td>\n",
              "      <td>1.099</td>\n",
              "      <td>1.089</td>\n",
              "      <td>1.021</td>\n",
              "      <td>0.999</td>\n",
              "      <td>0.995</td>\n",
              "      <td>0.959</td>\n",
              "      <td>0.915</td>\n",
              "      <td>0.876</td>\n",
              "      <td>0.849</td>\n",
              "      <td>0.838</td>\n",
              "      <td>0.814</td>\n",
              "      <td>0.771</td>\n",
              "      <td>0.735</td>\n",
              "      <td>0.726</td>\n",
              "      <td>0.624</td>\n",
              "      <td>0.606</td>\n",
              "      <td>0.521</td>\n",
              "      <td>0.482</td>\n",
              "      <td>0.404</td>\n",
              "      <td>0.330</td>\n",
              "      <td>250.120</td>\n",
              "      <td>0.042</td>\n",
              "    </tr>\n",
              "    <tr>\n",
              "      <th>min</th>\n",
              "      <td>0.000</td>\n",
              "      <td>-56.408</td>\n",
              "      <td>-72.716</td>\n",
              "      <td>-48.326</td>\n",
              "      <td>-5.683</td>\n",
              "      <td>-113.743</td>\n",
              "      <td>-26.161</td>\n",
              "      <td>-43.557</td>\n",
              "      <td>-73.217</td>\n",
              "      <td>-13.434</td>\n",
              "      <td>-24.588</td>\n",
              "      <td>-4.797</td>\n",
              "      <td>-18.684</td>\n",
              "      <td>-5.792</td>\n",
              "      <td>-19.214</td>\n",
              "      <td>-4.499</td>\n",
              "      <td>-14.130</td>\n",
              "      <td>-25.163</td>\n",
              "      <td>-9.499</td>\n",
              "      <td>-7.214</td>\n",
              "      <td>-54.498</td>\n",
              "      <td>-34.830</td>\n",
              "      <td>-10.933</td>\n",
              "      <td>-44.808</td>\n",
              "      <td>-2.837</td>\n",
              "      <td>-10.295</td>\n",
              "      <td>-2.605</td>\n",
              "      <td>-22.566</td>\n",
              "      <td>-15.430</td>\n",
              "      <td>0.000</td>\n",
              "      <td>0.000</td>\n",
              "    </tr>\n",
              "    <tr>\n",
              "      <th>25%</th>\n",
              "      <td>54201.500</td>\n",
              "      <td>-0.920</td>\n",
              "      <td>-0.599</td>\n",
              "      <td>-0.890</td>\n",
              "      <td>-0.849</td>\n",
              "      <td>-0.692</td>\n",
              "      <td>-0.768</td>\n",
              "      <td>-0.554</td>\n",
              "      <td>-0.209</td>\n",
              "      <td>-0.643</td>\n",
              "      <td>-0.535</td>\n",
              "      <td>-0.762</td>\n",
              "      <td>-0.406</td>\n",
              "      <td>-0.649</td>\n",
              "      <td>-0.426</td>\n",
              "      <td>-0.583</td>\n",
              "      <td>-0.468</td>\n",
              "      <td>-0.484</td>\n",
              "      <td>-0.499</td>\n",
              "      <td>-0.456</td>\n",
              "      <td>-0.212</td>\n",
              "      <td>-0.228</td>\n",
              "      <td>-0.542</td>\n",
              "      <td>-0.162</td>\n",
              "      <td>-0.355</td>\n",
              "      <td>-0.317</td>\n",
              "      <td>-0.327</td>\n",
              "      <td>-0.071</td>\n",
              "      <td>-0.053</td>\n",
              "      <td>5.600</td>\n",
              "      <td>0.000</td>\n",
              "    </tr>\n",
              "    <tr>\n",
              "      <th>50%</th>\n",
              "      <td>84692.000</td>\n",
              "      <td>0.018</td>\n",
              "      <td>0.065</td>\n",
              "      <td>0.180</td>\n",
              "      <td>-0.020</td>\n",
              "      <td>-0.054</td>\n",
              "      <td>-0.274</td>\n",
              "      <td>0.040</td>\n",
              "      <td>0.022</td>\n",
              "      <td>-0.051</td>\n",
              "      <td>-0.093</td>\n",
              "      <td>-0.033</td>\n",
              "      <td>0.140</td>\n",
              "      <td>-0.014</td>\n",
              "      <td>0.051</td>\n",
              "      <td>0.048</td>\n",
              "      <td>0.066</td>\n",
              "      <td>-0.066</td>\n",
              "      <td>-0.004</td>\n",
              "      <td>0.004</td>\n",
              "      <td>-0.062</td>\n",
              "      <td>-0.029</td>\n",
              "      <td>0.007</td>\n",
              "      <td>-0.011</td>\n",
              "      <td>0.041</td>\n",
              "      <td>0.017</td>\n",
              "      <td>-0.052</td>\n",
              "      <td>0.001</td>\n",
              "      <td>0.011</td>\n",
              "      <td>22.000</td>\n",
              "      <td>0.000</td>\n",
              "    </tr>\n",
              "    <tr>\n",
              "      <th>75%</th>\n",
              "      <td>139320.500</td>\n",
              "      <td>1.316</td>\n",
              "      <td>0.804</td>\n",
              "      <td>1.027</td>\n",
              "      <td>0.743</td>\n",
              "      <td>0.612</td>\n",
              "      <td>0.399</td>\n",
              "      <td>0.570</td>\n",
              "      <td>0.327</td>\n",
              "      <td>0.597</td>\n",
              "      <td>0.454</td>\n",
              "      <td>0.740</td>\n",
              "      <td>0.618</td>\n",
              "      <td>0.663</td>\n",
              "      <td>0.493</td>\n",
              "      <td>0.649</td>\n",
              "      <td>0.523</td>\n",
              "      <td>0.400</td>\n",
              "      <td>0.501</td>\n",
              "      <td>0.459</td>\n",
              "      <td>0.133</td>\n",
              "      <td>0.186</td>\n",
              "      <td>0.529</td>\n",
              "      <td>0.148</td>\n",
              "      <td>0.440</td>\n",
              "      <td>0.351</td>\n",
              "      <td>0.241</td>\n",
              "      <td>0.091</td>\n",
              "      <td>0.078</td>\n",
              "      <td>77.165</td>\n",
              "      <td>0.000</td>\n",
              "    </tr>\n",
              "    <tr>\n",
              "      <th>max</th>\n",
              "      <td>172792.000</td>\n",
              "      <td>2.455</td>\n",
              "      <td>22.058</td>\n",
              "      <td>9.383</td>\n",
              "      <td>16.875</td>\n",
              "      <td>34.802</td>\n",
              "      <td>73.302</td>\n",
              "      <td>120.589</td>\n",
              "      <td>20.007</td>\n",
              "      <td>15.595</td>\n",
              "      <td>23.745</td>\n",
              "      <td>12.019</td>\n",
              "      <td>7.848</td>\n",
              "      <td>7.127</td>\n",
              "      <td>10.527</td>\n",
              "      <td>8.878</td>\n",
              "      <td>17.315</td>\n",
              "      <td>9.254</td>\n",
              "      <td>5.041</td>\n",
              "      <td>5.592</td>\n",
              "      <td>39.421</td>\n",
              "      <td>27.203</td>\n",
              "      <td>10.503</td>\n",
              "      <td>22.528</td>\n",
              "      <td>4.585</td>\n",
              "      <td>7.520</td>\n",
              "      <td>3.517</td>\n",
              "      <td>31.612</td>\n",
              "      <td>33.848</td>\n",
              "      <td>25691.160</td>\n",
              "      <td>1.000</td>\n",
              "    </tr>\n",
              "  </tbody>\n",
              "</table>\n",
              "</div>"
            ],
            "text/plain": [
              "            Time         V1         V2  ...        V28     Amount      Class\n",
              "count 284807.000 284807.000 284807.000  ... 284807.000 284807.000 284807.000\n",
              "mean   94813.860      0.000      0.000  ...     -0.000     88.350      0.002\n",
              "std    47488.146      1.959      1.651  ...      0.330    250.120      0.042\n",
              "min        0.000    -56.408    -72.716  ...    -15.430      0.000      0.000\n",
              "25%    54201.500     -0.920     -0.599  ...     -0.053      5.600      0.000\n",
              "50%    84692.000      0.018      0.065  ...      0.011     22.000      0.000\n",
              "75%   139320.500      1.316      0.804  ...      0.078     77.165      0.000\n",
              "max   172792.000      2.455     22.058  ...     33.848  25691.160      1.000\n",
              "\n",
              "[8 rows x 31 columns]"
            ]
          },
          "metadata": {
            "tags": []
          },
          "execution_count": 61
        }
      ]
    },
    {
      "cell_type": "code",
      "metadata": {
        "id": "-8eO7q_zr6Sf"
      },
      "source": [
        "x=data.iloc[:,1:30].values\n",
        "y=data.iloc[:,-1].values"
      ],
      "execution_count": 62,
      "outputs": []
    },
    {
      "cell_type": "code",
      "metadata": {
        "colab": {
          "base_uri": "https://localhost:8080/"
        },
        "id": "b-hvy2mBsRVc",
        "outputId": "a1a194a3-51e2-423c-9331-0696650bc74f"
      },
      "source": [
        "print(x.shape)\n",
        "print(y.shape)"
      ],
      "execution_count": 64,
      "outputs": [
        {
          "output_type": "stream",
          "text": [
            "(284807, 29)\n",
            "(284807,)\n"
          ],
          "name": "stdout"
        }
      ]
    },
    {
      "cell_type": "code",
      "metadata": {
        "colab": {
          "base_uri": "https://localhost:8080/",
          "height": 351
        },
        "id": "uM_YXWoXsWgL",
        "outputId": "99630069-764f-46bd-c66f-ad0b3355ea12"
      },
      "source": [
        "plt.rcParams['figure.figsize']=(10,5)\n",
        "data_c=pd.value_counts(data['Class'],sort=True)\n",
        "data_c.plot(kind='bar',rot=1)\n",
        "plt.xlabel(\"0-Original 1-Fake\",color='Red',fontstyle='italic')\n",
        "plt.ylabel(\"no of records\",color='Red',fontstyle='italic')"
      ],
      "execution_count": 71,
      "outputs": [
        {
          "output_type": "execute_result",
          "data": {
            "text/plain": [
              "Text(0, 0.5, 'no of records')"
            ]
          },
          "metadata": {
            "tags": []
          },
          "execution_count": 71
        },
        {
          "output_type": "display_data",
          "data": {
            "image/png": "[encoded data removed]",
            "text/plain": [
              "<Figure size 720x360 with 1 Axes>"
            ]
          },
          "metadata": {
            "tags": [],
            "needs_background": "light"
          }
        }
      ]
    },
    {
      "cell_type": "code",
      "metadata": {
        "colab": {
          "base_uri": "https://localhost:8080/"
        },
        "id": "75fNiJ06vQtK",
        "outputId": "50e95b5f-b8a6-4448-8834-8926122cbc4d"
      },
      "source": [
        "len(data[data['Class']==0])"
      ],
      "execution_count": 72,
      "outputs": [
        {
          "output_type": "execute_result",
          "data": {
            "text/plain": [
              "284315"
            ]
          },
          "metadata": {
            "tags": []
          },
          "execution_count": 72
        }
      ]
    },
    {
      "cell_type": "code",
      "metadata": {
        "colab": {
          "base_uri": "https://localhost:8080/"
        },
        "id": "L9hdQjrwwKz9",
        "outputId": "bc18a0a1-20d0-429a-85b2-a94d193770be"
      },
      "source": [
        "len(data[data['Class']==1])"
      ],
      "execution_count": 73,
      "outputs": [
        {
          "output_type": "execute_result",
          "data": {
            "text/plain": [
              "492"
            ]
          },
          "metadata": {
            "tags": []
          },
          "execution_count": 73
        }
      ]
    },
    {
      "cell_type": "code",
      "metadata": {
        "colab": {
          "base_uri": "https://localhost:8080/",
          "height": 694
        },
        "id": "o3JcoIZPwOY2",
        "outputId": "44d56c77-4bf1-4458-efdf-cbce4c57097e"
      },
      "source": [
        "plt.rcParams['figure.figsize']=(30,15)\n",
        "cor=data.corr()\n",
        "sns.heatmap(cor,cmap='Blues',vmax=0.9,annot=True,fmt=' .2f')\n",
        "plt.show()"
      ],
      "execution_count": 82,
      "outputs": [
        {
          "output_type": "display_data",
          "data": {
            "image/png": "[encoded data removed]",
            "text/plain": [
              "<Figure size 2160x1080 with 2 Axes>"
            ]
          },
          "metadata": {
            "tags": [],
            "needs_background": "light"
          }
        }
      ]
    },
    {
      "cell_type": "code",
      "metadata": {
        "id": "UDSaF2EJxMtE"
      },
      "source": [
        "from sklearn.model_selection import train_test_split\n",
        "from sklearn.preprocessing import StandardScaler"
      ],
      "execution_count": 85,
      "outputs": []
    },
    {
      "cell_type": "code",
      "metadata": {
        "id": "7HsFBx7Jy4J2"
      },
      "source": [
        "trainx,testx,trainy,testy=train_test_split(x,y,test_size=0.2,random_state=0)"
      ],
      "execution_count": 95,
      "outputs": []
    },
    {
      "cell_type": "code",
      "metadata": {
        "colab": {
          "base_uri": "https://localhost:8080/"
        },
        "id": "_mEMQVlM0z5A",
        "outputId": "d8cee842-2844-4d9d-ea98-21ec2c6d91b6"
      },
      "source": [
        "trainx.shape"
      ],
      "execution_count": 96,
      "outputs": [
        {
          "output_type": "execute_result",
          "data": {
            "text/plain": [
              "(227845, 29)"
            ]
          },
          "metadata": {
            "tags": []
          },
          "execution_count": 96
        }
      ]
    },
    {
      "cell_type": "code",
      "metadata": {
        "colab": {
          "base_uri": "https://localhost:8080/"
        },
        "id": "2EFAIeYf0yjC",
        "outputId": "9bf80880-1759-4303-e2d9-33f561d60ac1"
      },
      "source": [
        "trainy.shape"
      ],
      "execution_count": 97,
      "outputs": [
        {
          "output_type": "execute_result",
          "data": {
            "text/plain": [
              "(227845,)"
            ]
          },
          "metadata": {
            "tags": []
          },
          "execution_count": 97
        }
      ]
    },
    {
      "cell_type": "markdown",
      "metadata": {
        "id": "txbDKfzxzyfa"
      },
      "source": [
        "#**DECISION TREE CLASSIFIER:**"
      ]
    },
    {
      "cell_type": "code",
      "metadata": {
        "id": "5P_J-_PUzvev"
      },
      "source": [
        "from sklearn.tree import DecisionTreeClassifier"
      ],
      "execution_count": 88,
      "outputs": []
    },
    {
      "cell_type": "code",
      "metadata": {
        "colab": {
          "base_uri": "https://localhost:8080/"
        },
        "id": "ulQD69ZR0KGO",
        "outputId": "ecba43de-a877-4eaa-870e-bc23ac418bc6"
      },
      "source": [
        "classifier=DecisionTreeClassifier(criterion='entropy',random_state=0)\n",
        "classifier.fit(trainx,trainy)"
      ],
      "execution_count": 98,
      "outputs": [
        {
          "output_type": "execute_result",
          "data": {
            "text/plain": [
              "DecisionTreeClassifier(ccp_alpha=0.0, class_weight=None, criterion='entropy',\n",
              "                       max_depth=None, max_features=None, max_leaf_nodes=None,\n",
              "                       min_impurity_decrease=0.0, min_impurity_split=None,\n",
              "                       min_samples_leaf=1, min_samples_split=2,\n",
              "                       min_weight_fraction_leaf=0.0, presort='deprecated',\n",
              "                       random_state=0, splitter='best')"
            ]
          },
          "metadata": {
            "tags": []
          },
          "execution_count": 98
        }
      ]
    },
    {
      "cell_type": "code",
      "metadata": {
        "colab": {
          "base_uri": "https://localhost:8080/"
        },
        "id": "wZurGOOF0eeP",
        "outputId": "dcf5291a-021d-4374-8bbb-dd38762141d9"
      },
      "source": [
        "predict=classifier.predict(testx)\n",
        "predict"
      ],
      "execution_count": 100,
      "outputs": [
        {
          "output_type": "execute_result",
          "data": {
            "text/plain": [
              "array([0, 0, 0, ..., 0, 0, 0])"
            ]
          },
          "metadata": {
            "tags": []
          },
          "execution_count": 100
        }
      ]
    },
    {
      "cell_type": "code",
      "metadata": {
        "id": "b1DUaU5P1bkC"
      },
      "source": [
        "from sklearn.metrics import accuracy_score\n"
      ],
      "execution_count": 101,
      "outputs": []
    },
    {
      "cell_type": "code",
      "metadata": {
        "colab": {
          "base_uri": "https://localhost:8080/"
        },
        "id": "vE4cclkD1pwb",
        "outputId": "85ab156d-ce7d-4460-98a4-bdce385fe418"
      },
      "source": [
        "print(accuracy_score(testy,predict)*100,'%')"
      ],
      "execution_count": 106,
      "outputs": [
        {
          "output_type": "stream",
          "text": [
            "99.93153330290369 %\n"
          ],
          "name": "stdout"
        }
      ]
    },
    {
      "cell_type": "markdown",
      "metadata": {
        "id": "CnGwiU_A2EYU"
      },
      "source": [
        "#**LOGISTIC REGRESSION**"
      ]
    },
    {
      "cell_type": "code",
      "metadata": {
        "id": "SXTugBCB2Bxo"
      },
      "source": [
        "from sklearn.linear_model import LogisticRegression"
      ],
      "execution_count": 107,
      "outputs": []
    },
    {
      "cell_type": "code",
      "metadata": {
        "id": "OuhaSfGO1vm-"
      },
      "source": [
        "model1=LogisticRegression()"
      ],
      "execution_count": 108,
      "outputs": []
    },
    {
      "cell_type": "code",
      "metadata": {
        "colab": {
          "base_uri": "https://localhost:8080/"
        },
        "id": "DGZF_fCX2VKd",
        "outputId": "3024ffd0-7d37-4098-d00c-064a06346bdd"
      },
      "source": [
        "import warnings\n",
        "warnings.filterwarnings('ignore')\n",
        "model1.fit(trainx,trainy)\n",
        "predict1=model1.predict(testx)\n",
        "print(accuracy_score(testy,predict1)*100,\"%\")"
      ],
      "execution_count": 116,
      "outputs": [
        {
          "output_type": "stream",
          "text": [
            "99.92451107756047 %\n"
          ],
          "name": "stdout"
        }
      ]
    },
    {
      "cell_type": "markdown",
      "metadata": {
        "id": "mRAyYtX_3Xji"
      },
      "source": [
        "#**SIMPLE NEURAL NETWORK MODEL**"
      ]
    },
    {
      "cell_type": "code",
      "metadata": {
        "id": "RzVDOLNK2guJ"
      },
      "source": [
        "import tensorflow\n",
        "from keras import layers,Sequential,models\n",
        "from tensorflow.keras.metrics import AUC"
      ],
      "execution_count": 121,
      "outputs": []
    },
    {
      "cell_type": "code",
      "metadata": {
        "id": "0wHAzSeu5pY8"
      },
      "source": [
        "model=Sequential([layers.Flatten(input_shape=(29,)),\n",
        "layers.Dense(841,activation='relu'),\n",
        "layers.Dropout(0.5),\n",
        "layers.Dense(420,activation='relu'),\n",
        "layers.Dense(1,activation='sigmoid'),]) "
      ],
      "execution_count": 129,
      "outputs": []
    },
    {
      "cell_type": "code",
      "metadata": {
        "colab": {
          "base_uri": "https://localhost:8080/"
        },
        "id": "_P1tbTznIwQI",
        "outputId": "a4fa77a8-a588-40fb-8089-89ce32d359cf"
      },
      "source": [
        "model.compile(optimizer='adam',loss='binary_crossentropy',metrics=['accuracy'])\n",
        "model.fit(trainx,trainy,epochs=50,batch_size=160)\n",
        "test_loss,test_acc=model.evaluate(testx,testy)"
      ],
      "execution_count": 131,
      "outputs": [
        {
          "output_type": "stream",
          "text": [
            "Epoch 1/50\n",
            "1425/1425 [==============================] - 36s 15ms/step - loss: 0.0648 - accuracy: 0.9955\n",
            "Epoch 2/50\n",
            "1425/1425 [==============================] - 21s 14ms/step - loss: 0.0108 - accuracy: 0.9992\n",
            "Epoch 3/50\n",
            "1425/1425 [==============================] - 21s 15ms/step - loss: 0.0072 - accuracy: 0.9992\n",
            "Epoch 4/50\n",
            "1425/1425 [==============================] - 21s 15ms/step - loss: 0.0096 - accuracy: 0.9991\n",
            "Epoch 5/50\n",
            "1425/1425 [==============================] - 21s 15ms/step - loss: 0.0061 - accuracy: 0.9992\n",
            "Epoch 6/50\n",
            "1425/1425 [==============================] - 21s 15ms/step - loss: 0.0066 - accuracy: 0.9992\n",
            "Epoch 7/50\n",
            "1425/1425 [==============================] - 21s 15ms/step - loss: 0.0083 - accuracy: 0.9991\n",
            "Epoch 8/50\n",
            "1425/1425 [==============================] - 21s 15ms/step - loss: 0.0072 - accuracy: 0.9993\n",
            "Epoch 9/50\n",
            "1425/1425 [==============================] - 21s 15ms/step - loss: 0.0072 - accuracy: 0.9993\n",
            "Epoch 10/50\n",
            "1425/1425 [==============================] - 21s 15ms/step - loss: 0.0083 - accuracy: 0.9991\n",
            "Epoch 11/50\n",
            "1425/1425 [==============================] - 20s 14ms/step - loss: 0.0065 - accuracy: 0.9992\n",
            "Epoch 12/50\n",
            "1425/1425 [==============================] - 21s 15ms/step - loss: 0.0085 - accuracy: 0.9993\n",
            "Epoch 13/50\n",
            "1425/1425 [==============================] - 21s 15ms/step - loss: 0.0073 - accuracy: 0.9993\n",
            "Epoch 14/50\n",
            "1425/1425 [==============================] - 21s 14ms/step - loss: 0.0104 - accuracy: 0.9993\n",
            "Epoch 15/50\n",
            "1425/1425 [==============================] - 21s 14ms/step - loss: 0.0075 - accuracy: 0.9994\n",
            "Epoch 16/50\n",
            "1425/1425 [==============================] - 21s 15ms/step - loss: 0.0050 - accuracy: 0.9994\n",
            "Epoch 17/50\n",
            "1425/1425 [==============================] - 20s 14ms/step - loss: 0.0052 - accuracy: 0.9994\n",
            "Epoch 18/50\n",
            "1425/1425 [==============================] - 21s 15ms/step - loss: 0.0053 - accuracy: 0.9994\n",
            "Epoch 19/50\n",
            "1425/1425 [==============================] - 20s 14ms/step - loss: 0.0073 - accuracy: 0.9993\n",
            "Epoch 20/50\n",
            "1425/1425 [==============================] - 20s 14ms/step - loss: 0.0078 - accuracy: 0.9993\n",
            "Epoch 21/50\n",
            "1425/1425 [==============================] - 21s 15ms/step - loss: 0.0073 - accuracy: 0.9993\n",
            "Epoch 22/50\n",
            "1425/1425 [==============================] - 21s 15ms/step - loss: 0.0061 - accuracy: 0.9994\n",
            "Epoch 23/50\n",
            "1425/1425 [==============================] - 21s 15ms/step - loss: 0.0066 - accuracy: 0.9993\n",
            "Epoch 24/50\n",
            "1425/1425 [==============================] - 21s 14ms/step - loss: 0.0085 - accuracy: 0.9994\n",
            "Epoch 25/50\n",
            "1425/1425 [==============================] - 21s 15ms/step - loss: 0.0059 - accuracy: 0.9994\n",
            "Epoch 26/50\n",
            "1425/1425 [==============================] - 21s 14ms/step - loss: 0.0048 - accuracy: 0.9994\n",
            "Epoch 27/50\n",
            "1425/1425 [==============================] - 21s 14ms/step - loss: 0.0070 - accuracy: 0.9994\n",
            "Epoch 28/50\n",
            "1425/1425 [==============================] - 21s 15ms/step - loss: 0.0072 - accuracy: 0.9994\n",
            "Epoch 29/50\n",
            "1425/1425 [==============================] - 21s 14ms/step - loss: 0.0082 - accuracy: 0.9994\n",
            "Epoch 30/50\n",
            "1425/1425 [==============================] - 21s 14ms/step - loss: 0.0058 - accuracy: 0.9992\n",
            "Epoch 31/50\n",
            "1425/1425 [==============================] - 21s 15ms/step - loss: 0.0057 - accuracy: 0.9994\n",
            "Epoch 32/50\n",
            "1425/1425 [==============================] - 20s 14ms/step - loss: 0.0041 - accuracy: 0.9994\n",
            "Epoch 33/50\n",
            "1425/1425 [==============================] - 21s 15ms/step - loss: 0.0045 - accuracy: 0.9994\n",
            "Epoch 34/50\n",
            "1425/1425 [==============================] - 21s 15ms/step - loss: 0.0045 - accuracy: 0.9994\n",
            "Epoch 35/50\n",
            "1425/1425 [==============================] - 21s 14ms/step - loss: 0.0048 - accuracy: 0.9995\n",
            "Epoch 36/50\n",
            "1425/1425 [==============================] - 21s 15ms/step - loss: 0.0053 - accuracy: 0.9994\n",
            "Epoch 37/50\n",
            "1425/1425 [==============================] - 21s 15ms/step - loss: 0.0041 - accuracy: 0.9994\n",
            "Epoch 38/50\n",
            "1425/1425 [==============================] - 21s 15ms/step - loss: 0.0061 - accuracy: 0.9995\n",
            "Epoch 39/50\n",
            "1425/1425 [==============================] - 21s 15ms/step - loss: 0.0057 - accuracy: 0.9995\n",
            "Epoch 40/50\n",
            "1425/1425 [==============================] - 21s 15ms/step - loss: 0.0051 - accuracy: 0.9994\n",
            "Epoch 41/50\n",
            "1425/1425 [==============================] - 21s 15ms/step - loss: 0.0046 - accuracy: 0.9994\n",
            "Epoch 42/50\n",
            "1425/1425 [==============================] - 21s 14ms/step - loss: 0.0046 - accuracy: 0.9996\n",
            "Epoch 43/50\n",
            "1425/1425 [==============================] - 21s 14ms/step - loss: 0.0048 - accuracy: 0.9996\n",
            "Epoch 44/50\n",
            "1425/1425 [==============================] - 21s 14ms/step - loss: 0.0065 - accuracy: 0.9994\n",
            "Epoch 45/50\n",
            "1425/1425 [==============================] - 21s 14ms/step - loss: 0.0058 - accuracy: 0.9994\n",
            "Epoch 46/50\n",
            "1425/1425 [==============================] - 21s 15ms/step - loss: 0.0058 - accuracy: 0.9995\n",
            "Epoch 47/50\n",
            "1425/1425 [==============================] - 21s 15ms/step - loss: 0.0054 - accuracy: 0.9995\n",
            "Epoch 48/50\n",
            "1425/1425 [==============================] - 21s 14ms/step - loss: 0.0040 - accuracy: 0.9996\n",
            "Epoch 49/50\n",
            "1425/1425 [==============================] - 21s 14ms/step - loss: 0.0032 - accuracy: 0.9995\n",
            "Epoch 50/50\n",
            "1425/1425 [==============================] - 21s 14ms/step - loss: 0.0051 - accuracy: 0.9995\n",
            "1781/1781 [==============================] - 5s 2ms/step - loss: 0.0055 - accuracy: 0.9995\n"
          ],
          "name": "stdout"
        }
      ]
    },
    {
      "cell_type": "code",
      "metadata": {
        "colab": {
          "base_uri": "https://localhost:8080/"
        },
        "id": "lPGcnTZ8JojY",
        "outputId": "47c0adc5-b8f2-44f0-a87b-cc3d8953b25b"
      },
      "source": [
        "print('Test accuracy:',test_acc*100,\"%\")"
      ],
      "execution_count": 137,
      "outputs": [
        {
          "output_type": "stream",
          "text": [
            "Test accuracy: 99.94733333587646 %\n"
          ],
          "name": "stdout"
        }
      ]
    },
    {
      "cell_type": "markdown",
      "metadata": {
        "id": "LDiBt5w1Puk2"
      },
      "source": [
        "# **SAMPLE INPUTS**"
      ]
    },
    {
      "cell_type": "code",
      "metadata": {
        "colab": {
          "base_uri": "https://localhost:8080/"
        },
        "id": "us6qfGv6O2gR",
        "outputId": "a320fb2b-f57d-4904-f695-63a8d970bb26"
      },
      "source": [
        "def output(y):\n",
        "  s=model1.predict(y)\n",
        "  f=classifier.predict(y)\n",
        "  if s==[0] and f==[0]:\n",
        "    return \"The Given Card is Not a Fradulant_(logisticRegression,DecisionTree)\"\n",
        "  else:\n",
        "    return \"The Given Card is Fradulant_(logisticRegression,DecisionTree)\"\n",
        "print(\"Enter values like-V1,V2,V3,V4,V5,V6,V7,V8,V9,V10,V11,V12,V13,V14,V15,V16,V17,V18,V19,V20,V21,V22,V23,V24,V25,V26,V27,V28,Amount\")    \n",
        "s=[[-1.358,-1.340,1.773,0.380,-0.503,1.800,0.791,0.248,-1.515,0.208,0.625,0.066,0.717,-0.166,2.346,-2.890,1.110,-0.121,-2.262,0.525,0.248,0.772,0.909,-0.689,-0.328,-0.139,-0.055,-0.060,378.660]]\n",
        "print(\" \")\n",
        "print(output(s))"
      ],
      "execution_count": 158,
      "outputs": [
        {
          "output_type": "stream",
          "text": [
            "Enter values like-V1,V2,V3,V4,V5,V6,V7,V8,V9,V10,V11,V12,V13,V14,V15,V16,V17,V18,V19,V20,V21,V22,V23,V24,V25,V26,V27,V28,Amount\n",
            " \n",
            "The Given Card is Not a Fradulant_(logisticRegression,DecisionTree)\n"
          ],
          "name": "stdout"
        }
      ]
    },
    {
      "cell_type": "code",
      "metadata": {
        "colab": {
          "base_uri": "https://localhost:8080/"
        },
        "id": "vUldkdMtUkIg",
        "outputId": "998c9240-81df-4c0a-9915-57b9fd5d9a10"
      },
      "source": [
        "s=[[-2.312 \t,1.952 ,\t-1.610 ,\t3.998 \t,-0.522 \t,-1.427 ,\t-2.537, \t1.392 ,\t-2.770 ,\t-2.772 ,\t3.202 \t,-2.900 \t,-0.595 ,\t-4.289 \t,0.390 \t,-1.141 \t,-2.830 \t,-0.017 \t,0.417 \t,0.127 \t,0.517 \t,-0.035 \t,-0.465 \t,0.320 \t,0.045 ,\t0.178 ,0.261 ,-0.143,0.000]]\n",
        "print(output(s))"
      ],
      "execution_count": 187,
      "outputs": [
        {
          "output_type": "stream",
          "text": [
            "The Given Card is Fradulant_(logisticRegression,DecisionTree)\n"
          ],
          "name": "stdout"
        }
      ]
    },
    {
      "cell_type": "code",
      "metadata": {
        "id": "dGkWac7wYwaz"
      },
      "source": [
        ""
      ],
      "execution_count": null,
      "outputs": []
    }
  ]
}